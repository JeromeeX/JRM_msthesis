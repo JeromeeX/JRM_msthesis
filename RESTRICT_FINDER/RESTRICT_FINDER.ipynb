{
 "cells": [
  {
   "cell_type": "code",
   "execution_count": 11,
   "metadata": {},
   "outputs": [],
   "source": [
    "# Put sorted BAM file (including the genome) in the same directory as the script\n",
    "import pysam\n",
    "from pyfaidx import Fasta\n",
    "\n",
    "genome = Fasta('genome_celegans.fa')\n",
    "bamfile = pysam.AlignmentFile(\"align_2x.sorted.bam\", \"rb\")\n",
    "\n",
    "# EcoRI and HindIII\n",
    "six_mer = [\"GAATTC\", \"AAGCTT\"]\n",
    "\n",
    "# Function to check if the 6-mer is in the genome segment\n",
    "def check_six_mer_in_genome(chrom, start, end, six_mer):\n",
    "    # Extract the sequence from the genome\n",
    "    sequence = genome[chrom][start:end].seq\n",
    "    # Check for the 6-mer in this sequence\n",
    "    return six_mer in sequence\n",
    "\n",
    "# Iterate over reads in the BAM file\n",
    "for read in bamfile:\n",
    "    if not read.is_unmapped:  # Ensure the read is mapped\n",
    "        chrom = bamfile.get_reference_name(read.reference_id)\n",
    "        start = read.reference_start\n",
    "        end = read.reference_end\n",
    "        for site in six_mer:\n",
    "            if check_six_mer_in_genome(chrom, start, end, site):\n",
    "                # Record the read name to the a file, change line for each name\n",
    "                # Use seqkit to find the read in the fastq file\n",
    "                with open(\"readname_2x-with-sites.txt\", \"a\") as file:\n",
    "                    file.write(read.query_name + \"\\n\")\n"
   ]
  }
 ],
 "metadata": {
  "kernelspec": {
   "display_name": "jrm",
   "language": "python",
   "name": "python3"
  },
  "language_info": {
   "codemirror_mode": {
    "name": "ipython",
    "version": 3
   },
   "file_extension": ".py",
   "mimetype": "text/x-python",
   "name": "python",
   "nbconvert_exporter": "python",
   "pygments_lexer": "ipython3",
   "version": "3.10.13"
  }
 },
 "nbformat": 4,
 "nbformat_minor": 2
}
